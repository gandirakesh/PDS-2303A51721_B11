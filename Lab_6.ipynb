{
  "nbformat": 4,
  "nbformat_minor": 0,
  "metadata": {
    "colab": {
      "provenance": [],
      "authorship_tag": "ABX9TyNBg4DZzoSqWuWzfdiExxk3",
      "include_colab_link": true
    },
    "kernelspec": {
      "name": "python3",
      "display_name": "Python 3"
    },
    "language_info": {
      "name": "python"
    }
  },
  "cells": [
    {
      "cell_type": "markdown",
      "metadata": {
        "id": "view-in-github",
        "colab_type": "text"
      },
      "source": [
        "<a href=\"https://colab.research.google.com/github/gandirakesh/PDS-2303A51721_B11/blob/main/Lab_6.ipynb\" target=\"_parent\"><img src=\"https://colab.research.google.com/assets/colab-badge.svg\" alt=\"Open In Colab\"/></a>"
      ]
    },
    {
      "cell_type": "markdown",
      "source": [
        "# G.**RAKESH**\n",
        "# **2303A51721**"
      ],
      "metadata": {
        "id": "ifaBz3AcO8BU"
      }
    },
    {
      "cell_type": "code",
      "execution_count": 1,
      "metadata": {
        "colab": {
          "base_uri": "https://localhost:8080/"
        },
        "id": "HTp5_LWoOjiM",
        "outputId": "780ddd36-1754-4f3d-fceb-f359485955bb"
      },
      "outputs": [
        {
          "output_type": "stream",
          "name": "stdout",
          "text": [
            "Original Dataset:\n",
            "   TransactionID CustomerID Product  Amount        Date\n",
            "0            101       C001   Shoes   59.99  2023-09-01\n",
            "1            102       C002   Shirt   29.99  2023-09-02\n",
            "2            103       C003   Watch  199.99  2023-09-03\n",
            "3            104       C004   Shoes   89.99  2023-09-04\n",
            "4            105       C005    Belt   19.99  2023-09-05\n",
            "5            106       C006     Hat   24.99  2023-09-06\n",
            "6            103       C003   Watch  199.99  2023-09-03\n",
            "7            105       C005    Belt   19.99  2023-09-05\n",
            "\n",
            "Duplicate Rows:\n",
            "   TransactionID CustomerID Product  Amount        Date\n",
            "6            103       C003   Watch  199.99  2023-09-03\n",
            "7            105       C005    Belt   19.99  2023-09-05\n",
            "\n",
            "Number of rows before removing duplicates: 8\n",
            "Number of rows after removing duplicates: 6\n",
            "\n",
            "Cleaned Dataset:\n",
            "   TransactionID CustomerID Product  Amount        Date\n",
            "0            101       C001   Shoes   59.99  2023-09-01\n",
            "1            102       C002   Shirt   29.99  2023-09-02\n",
            "2            103       C003   Watch  199.99  2023-09-03\n",
            "3            104       C004   Shoes   89.99  2023-09-04\n",
            "4            105       C005    Belt   19.99  2023-09-05\n",
            "5            106       C006     Hat   24.99  2023-09-06\n"
          ]
        }
      ],
      "source": [
        "import pandas as pd\n",
        "\n",
        "data = {\n",
        "    'TransactionID': [101, 102, 103, 104, 105, 106, 103, 105],\n",
        "    'CustomerID': ['C001', 'C002', 'C003', 'C004', 'C005', 'C006', 'C003', 'C005'],\n",
        "    'Product': ['Shoes', 'Shirt', 'Watch', 'Shoes', 'Belt', 'Hat', 'Watch', 'Belt'],\n",
        "    'Amount': [59.99, 29.99, 199.99, 89.99, 19.99, 24.99, 199.99, 19.99],\n",
        "    'Date': ['2023-09-01', '2023-09-02', '2023-09-03', '2023-09-04',\n",
        "             '2023-09-05', '2023-09-06', '2023-09-03', '2023-09-05']\n",
        "}\n",
        "\n",
        "df = pd.DataFrame(data)\n",
        "\n",
        "print(\"Original Dataset:\")\n",
        "print(df)\n",
        "\n",
        "duplicate_rows = df[df.duplicated()]\n",
        "print(\"\\nDuplicate Rows:\")\n",
        "print(duplicate_rows)\n",
        "\n",
        "before_count = len(df)\n",
        "print(f\"\\nNumber of rows before removing duplicates: {before_count}\")\n",
        "\n",
        "df_cleaned = df.drop_duplicates()\n",
        "\n",
        "after_count = len(df_cleaned)\n",
        "print(f\"Number of rows after removing duplicates: {after_count}\")\n",
        "\n",
        "print(\"\\nCleaned Dataset:\")\n",
        "print(df_cleaned)\n"
      ]
    },
    {
      "cell_type": "code",
      "source": [
        "import pandas as pd\n",
        "\n",
        "data = {\n",
        "    'EmployeeID': [1, 2, 3, 4],\n",
        "    'Name': ['Alice', 'Bob', 'Charlie', 'Diana'],\n",
        "    'Salary': ['55000', '62000', '58000', '60000'],\n",
        "    'Joining_Date': ['2021-01-15', '2020-07-23', '2022-03-01', '2019-11-30']\n",
        "}\n",
        "\n",
        "df = pd.DataFrame(data)\n",
        "\n",
        "print(\"Original Data Types:\\n\")\n",
        "print(df.dtypes)\n",
        "\n",
        "df['Salary'] = pd.to_numeric(df['Salary'])\n",
        "df['Joining_Date'] = pd.to_datetime(df['Joining_Date'])\n",
        "\n",
        "print(\"\\nData Types After Conversion:\\n\")\n",
        "print(df.dtypes)\n",
        "\n",
        "print(\"\\nConverted Dataset:\\n\")\n",
        "print(df)\n"
      ],
      "metadata": {
        "colab": {
          "base_uri": "https://localhost:8080/"
        },
        "id": "XF-1h-rGOqwI",
        "outputId": "e470519c-0e03-434c-c994-014c5857f91a"
      },
      "execution_count": 2,
      "outputs": [
        {
          "output_type": "stream",
          "name": "stdout",
          "text": [
            "Original Data Types:\n",
            "\n",
            "EmployeeID       int64\n",
            "Name            object\n",
            "Salary          object\n",
            "Joining_Date    object\n",
            "dtype: object\n",
            "\n",
            "Data Types After Conversion:\n",
            "\n",
            "EmployeeID               int64\n",
            "Name                    object\n",
            "Salary                   int64\n",
            "Joining_Date    datetime64[ns]\n",
            "dtype: object\n",
            "\n",
            "Converted Dataset:\n",
            "\n",
            "   EmployeeID     Name  Salary Joining_Date\n",
            "0           1    Alice   55000   2021-01-15\n",
            "1           2      Bob   62000   2020-07-23\n",
            "2           3  Charlie   58000   2022-03-01\n",
            "3           4    Diana   60000   2019-11-30\n"
          ]
        }
      ]
    }
  ]
}