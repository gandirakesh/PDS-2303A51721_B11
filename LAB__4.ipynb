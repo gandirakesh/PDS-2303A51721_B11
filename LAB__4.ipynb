{
  "nbformat": 4,
  "nbformat_minor": 0,
  "metadata": {
    "colab": {
      "provenance": [],
      "include_colab_link": true
    },
    "kernelspec": {
      "name": "python3",
      "display_name": "Python 3"
    },
    "language_info": {
      "name": "python"
    }
  },
  "cells": [
    {
      "cell_type": "markdown",
      "metadata": {
        "id": "view-in-github",
        "colab_type": "text"
      },
      "source": [
        "<a href=\"https://colab.research.google.com/github/gandirakesh/PDS-2303A51721_B11/blob/main/LAB__4.ipynb\" target=\"_parent\"><img src=\"https://colab.research.google.com/assets/colab-badge.svg\" alt=\"Open In Colab\"/></a>"
      ]
    },
    {
      "cell_type": "markdown",
      "source": [
        "# **G.RAKESH**\n",
        "## 2303A51721"
      ],
      "metadata": {
        "id": "mXbarR2_7tw0"
      }
    },
    {
      "cell_type": "code",
      "execution_count": 4,
      "metadata": {
        "colab": {
          "base_uri": "https://localhost:8080/",
          "height": 0
        },
        "id": "1kzAQTWtfmUt",
        "outputId": "2eaedf5a-a918-48d4-c131-576959d2e529"
      },
      "outputs": [
        {
          "output_type": "stream",
          "name": "stdout",
          "text": [
            "Original Data:\n",
            "\n",
            "   Student_ID   Name  Math  Science  English\n",
            "0         101  Aarav  88.0     90.0     85.0\n",
            "1         102   Diya  76.0      NaN     80.0\n",
            "2         103  Kiran   NaN     70.0     88.0\n",
            "3         104  Meera  92.0     85.0      NaN\n",
            "4         105   Ravi  65.0     78.0     60.0\n",
            "5         106   Sita   NaN     95.0     77.0\n",
            "\n",
            "Data after filling missing values:\n",
            "\n",
            "   Student_ID   Name   Math  Science  English\n",
            "0         101  Aarav  88.00     90.0     85.0\n",
            "1         102   Diya  76.00     83.6     80.0\n",
            "2         103  Kiran  80.25     70.0     88.0\n",
            "3         104  Meera  92.00     85.0     78.0\n",
            "4         105   Ravi  65.00     78.0     60.0\n",
            "5         106   Sita  80.25     95.0     77.0\n",
            "\n",
            "High Achievers (all subjects > 75):\n",
            "\n",
            "   Student_ID   Name   Math  Science  English\n",
            "0         101  Aarav  88.00     90.0     85.0\n",
            "1         102   Diya  76.00     83.6     80.0\n",
            "3         104  Meera  92.00     85.0     78.0\n",
            "5         106   Sita  80.25     95.0     77.0\n",
            "\n",
            "Filtered results saved to 'high_achievers.csv'\n"
          ]
        }
      ],
      "source": [
        "# Student Marks Analysis using pandas\n",
        "\n",
        "import pandas as pd\n",
        "\n",
        "# Step 1: Read the CSV file\n",
        "# Make sure student_scores.csv is uploaded to your Colab environment\n",
        "df = pd.read_csv(\"/content/student_scores.csv\")\n",
        "\n",
        "print(\"Original Data:\\n\")\n",
        "print(df)\n",
        "\n",
        "# Step 2: Fill missing values with column-wise average\n",
        "df_filled = df.fillna(df.mean(numeric_only=True))\n",
        "\n",
        "print(\"\\nData after filling missing values:\\n\")\n",
        "print(df_filled)\n",
        "\n",
        "# Step 3: Filter students who scored more than 75 in all subjects\n",
        "high_achievers = df_filled[\n",
        "    (df_filled[\"Math\"] > 75) &\n",
        "    (df_filled[\"Science\"] > 75) &\n",
        "    (df_filled[\"English\"] > 75)\n",
        "]\n",
        "\n",
        "print(\"\\nHigh Achievers (all subjects > 75):\\n\")\n",
        "print(high_achievers)\n",
        "\n",
        "# Step 4: Save results (optional)\n",
        "high_achievers.to_csv(\"high_achievers.csv\", index=False)\n",
        "print(\"\\nFiltered results saved to 'high_achievers.csv'\")\n"
      ]
    },
    {
      "cell_type": "code",
      "source": [
        "# Hospital Patient Records Analysis\n",
        "\n",
        "import pandas as pd\n",
        "\n",
        "# Step 1: Load the dataset (patients.csv should be uploaded in Colab)\n",
        "df = pd.read_csv(\"/content/patients.csv\")\n",
        "\n",
        "print(\"Original Data:\\n\")\n",
        "print(df)\n",
        "\n",
        "# Step 2: Replace missing Age values with the median\n",
        "median_age = df[\"Age\"].median()\n",
        "df[\"Age\"] = df[\"Age\"].fillna(median_age)\n",
        "\n",
        "print(\"\\nData after filling missing Age values with median:\\n\")\n",
        "print(df)\n",
        "\n",
        "# Step 3: Filter elderly female patients diagnosed with Diabetes\n",
        "elderly_females = df[\n",
        "    (df[\"Gender\"].str.lower() == \"female\") &\n",
        "    (df[\"Age\"] > 50) &\n",
        "    (df[\"Diagnosis\"].str.lower() == \"diabetes\")\n",
        "]\n",
        "\n",
        "print(\"\\nElderly Female Patients with Diabetes:\\n\")\n",
        "print(elderly_females)\n",
        "\n",
        "# Step 4: Save results (optional)\n",
        "elderly_females.to_csv(\"elderly_female_diabetes.csv\", index=False)\n",
        "print(\"\\nFiltered results saved to 'elderly_female_diabetes.csv'\")\n"
      ],
      "metadata": {
        "colab": {
          "base_uri": "https://localhost:8080/",
          "height": 0
        },
        "id": "zKdEfUixgIIo",
        "outputId": "683305f5-2a8a-4c3c-a517-63240f7b0be5"
      },
      "execution_count": 6,
      "outputs": [
        {
          "output_type": "stream",
          "name": "stdout",
          "text": [
            "Original Data:\n",
            "\n",
            "   Patient_ID     Name   Age  Gender     Diagnosis Admission_Date\n",
            "0         201  Lakshmi  65.0  Female      Diabetes     2023-01-15\n",
            "1         202    Arjun  45.0    Male  Hypertension     2023-02-10\n",
            "2         203    Meena   NaN  Female      Diabetes     2023-03-05\n",
            "3         204   Suresh  72.0    Male        Asthma     2023-04-20\n",
            "4         205    Radha  54.0  Female      Diabetes     2023-05-18\n",
            "5         206   Vikram   NaN    Male        Cancer     2023-06-25\n",
            "6         207    Anita  68.0  Female      Diabetes     2023-07-12\n",
            "\n",
            "Data after filling missing Age values with median:\n",
            "\n",
            "   Patient_ID     Name   Age  Gender     Diagnosis Admission_Date\n",
            "0         201  Lakshmi  65.0  Female      Diabetes     2023-01-15\n",
            "1         202    Arjun  45.0    Male  Hypertension     2023-02-10\n",
            "2         203    Meena  65.0  Female      Diabetes     2023-03-05\n",
            "3         204   Suresh  72.0    Male        Asthma     2023-04-20\n",
            "4         205    Radha  54.0  Female      Diabetes     2023-05-18\n",
            "5         206   Vikram  65.0    Male        Cancer     2023-06-25\n",
            "6         207    Anita  68.0  Female      Diabetes     2023-07-12\n",
            "\n",
            "Elderly Female Patients with Diabetes:\n",
            "\n",
            "   Patient_ID     Name   Age  Gender Diagnosis Admission_Date\n",
            "0         201  Lakshmi  65.0  Female  Diabetes     2023-01-15\n",
            "2         203    Meena  65.0  Female  Diabetes     2023-03-05\n",
            "4         205    Radha  54.0  Female  Diabetes     2023-05-18\n",
            "6         207    Anita  68.0  Female  Diabetes     2023-07-12\n",
            "\n",
            "Filtered results saved to 'elderly_female_diabetes.csv'\n"
          ]
        }
      ]
    }
  ]
}